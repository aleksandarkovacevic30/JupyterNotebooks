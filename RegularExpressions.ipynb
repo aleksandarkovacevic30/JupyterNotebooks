{
 "cells": [
  {
   "cell_type": "markdown",
   "metadata": {},
   "source": [
    "#\tZiel der Schulung\n",
    "\n",
    "In dieser Schulung soll das Konzept der regulären Ausdrücke insbesondere für Fachanwender erläutert werden.\n",
    "Zu Beginn einfache Beispielübungen sollen diese Anwender zur Nutzung diese mächtigen Werkzeuges befähigen.\n",
    "Technische Vorkenntnisse werden nicht vorausgesetzt, jedoch sind Grundkenntnisse in Office hilfreich.\n"
   ]
  },
  {
   "cell_type": "markdown",
   "metadata": {},
   "source": [
    "#\tWas sind reguläre Ausdrücke?\n",
    "\n",
    "Der Begriff „regulärer Ausdruck“ kommt aus der Informatik. Diese dient im wesentlichen zur Beschreibung von Zeichenketten in einem eher theoretischen Zusammenhang („reguläre Sprachen“).\n",
    "Unabhängig davon kann dieses Konzept für ein sehr mächtiges und zielgerichtetes „Suchen und Ersetzen“ verwendet werden. Unter anderem bieten Excel und notepad++ diese Funktionalität.\n",
    "\n",
    "#\tSchulungsumgebung\n",
    "\n",
    "Für die Schulung beabsichtigen wir ein sogenanntes Notebook zur Verfügung zu stellen, in dem die regulären Ausdrücke erprobt werden können und die Lösung von Übungsaufgaben selbstverantwortlich kontrolliert werden kann.\n",
    "\n",
    "Bislang ist nicht klar, auf welcher Plattform dies durchgeführt werden soll. Hier bieten sich google cloud services, microsoft azure oder eine lokale installation an. Inwieweit cloudera hier angemessen wäre ist zu klären.\n",
    "\n",
    "#\tSchulungskonzeption\n",
    "\n",
    "##\tSchulungskonzeption\n",
    "\n",
    "Beschreibung der Schulungsumgebung und Vorgehensweise (noch offen, tbd).\n",
    "\n",
    "##\tLektion 1: Zeichen, Zahlen und Sonderzeichen\n",
    "\n",
    "Wenn wir in der Praxis von Textdarstellungen sprechen, so geht es im wesentlichen um drei immer um drei Gruppen:\n",
    "\n",
    "-\tZeichen (a,b,c, … , z,A,B,C, … ,Z)\n",
    "-\tZahlen (0,1,2, … 9)\n",
    "-\tSonderzeichen (jedes „Textstückchen“, das nicht bereits schon oben dargestellt ist, z.B. !“§%& usw.)\n",
    "\n",
    "Meistens wird hier der sog. ASCII Code verwendet, siehe hierzu ASCII Tabellen im Netz (z.B. https://de.wikipedia.org/wiki/American_Standard_Code_for_Information_Interchange).\n",
    "Für die Übung stellen wir uns nun einen „Automaten“ vor, der für gegebene Zeichenketten Teilstrings findet. Wie er das tut, ist in diesem Schritt egal.\n",
    "\n"
   ]
  },
  {
   "cell_type": "markdown",
   "metadata": {},
   "source": [
    "##\tÜbung 1: Zeichen, Zahlen und Sonderzeichen\n",
    "\n",
    "###\tÜbung 1a: Zeichen\n",
    "\n",
    "Im Beispiel sind folgende Zeichenketten (hier BICs) gegeben:\n",
    "\n",
    "COBADEFFXXX\n",
    "\n",
    "DEUTDEFFXXX\n",
    "\n",
    "COBADEFFXXX\n",
    "\n",
    "\n",
    "-\tDefiniere Teilzeichenkette, die die Commerzbank BICs herausfiltern. \n",
    "-\tWelches Zeichen charakterisiert Commerzbank BICs im Beispiel minimal (Achtung: Die Lösung ist nicht eindeutig).\n",
    "-\tDer Dezimale Ascii Code 40 stellt die linksoffene Klammer dar und kann mit der Tastenkombination Alt – 40 (Ziffernpad) abgerufen werden. Wie lautet der Ascii Code für das Zeichen „@“ ?\n",
    "\n"
   ]
  },
  {
   "cell_type": "markdown",
   "metadata": {},
   "source": [
    "### Übung 1b: Ziffern\n",
    "\n",
    "In einem Kommentarfeld werden Nachrichtentypen wie\n",
    "103 from 12.03.2016\n",
    "MT103 dated Nov. 2016\n",
    "MT202 blabla\n",
    "Your 202\n",
    "Your MT202Cov\n",
    "\n",
    "- Definiere Teilzeichenkette, die nur aus Ziffern besteht und nur Text anzeigt, der sich auf den Nachrichtentyp MT103 bezieht. \n",
    "- Ist es möglich nur mit Ziffern alle Texte zu finden, die sich auf MT202xxx Transaktionen beziehen?\n"
   ]
  },
  {
   "cell_type": "markdown",
   "metadata": {},
   "source": [
    "###\tÜbung 1c: Sonderzeichen\n",
    "\n",
    "Sonderzeichen sind ein spezielles Thema. So bezeichnet der Punkt „.“ etwa eine Joker (wildcard) für ein beliebiges Zeichen (warum so etwas überhaupt Sinn macht erklären wir später). Für ein Sonderzeichen (also z.B. den Punkt) benötigt man eine spezielle Kennzeichnung, man muss dem Automat sagen dass jetzt das Zeichen Punkt kommt und nicht der wildcard. Dazu verwendet man den backslash: „ \\.“. \n",
    "Betrachte folgende Beispiele:\n",
    "123.00 EUR\n",
    "123.24 USD\n",
    "MT103\n",
    "\n",
    "- Finde über ein Sonderzeichen alle Textketten, die wie ein Betrag aussehen.\n",
    "- Was würde passieren, wenn wir die obige Beispielliste um 100 SGD erweitern und dann die Abfrage unter a) erneut durchführen?\n"
   ]
  },
  {
   "cell_type": "markdown",
   "metadata": {},
   "source": [
    "##\tLektion 2: Ein Zeichen einschließen oder ausschließen\n",
    "\n",
    "In dieser Lektion betrachten wir das einschließen oder ausschließen eines einzelnen Zeichens bei der Suche in einem Text.\n",
    "Die Syntax hierfür ist nicht besonders schwer:\n",
    "\n",
    "-\t[abc] bezeichnet ein Zeichen, das a, b oder c ist\n",
    "-\t[^abc] bezeichnet ein Zeichen, das nicht a, b oder c ist.\n",
    "Mit diesem Baustein kann man nun differenziert Texte auswählen, wie wir in der nachfolgenden Übung sehen werden. \n",
    "Manchmal ist es sinnvoll ganze Bereiche zu Kennzeichnen:\n",
    "-\t[a-z] bezeichnet ein Zeichen „zwischen“ a und z\n",
    "-\t[0-9] bezeichnet eine Zahl „zwischen“ 0 und 9.\n",
    "\n",
    "Dies wollen wir in nachfolgender Übung vertiefen.\n"
   ]
  },
  {
   "cell_type": "markdown",
   "metadata": {},
   "source": [
    "### Übung 2: Ein Zeichen einschließen oder ausschließen\n",
    "\n",
    "In dieser Übung betrachten wir die folgende Sammlung von IBANs und Kontonummern:\n",
    "DE27100777770209299700 \n",
    "DE11520513735120710131 \n",
    "AT411100000237571500\n",
    "AL90208110080000001039531801\n",
    "BE68844010370034\n",
    "DK5750510001322617\n",
    "EE342200221034126658\n",
    "400 654657\n",
    "8051465\n",
    "78988798654\n",
    "\n",
    "-\tFinde alle IBANs, die mit D beginnen (Tipp:verwende hierfür die [ ] - Syntax).\n",
    "-\tFinde alle IBANs, die nicht mit D beginnen.\n",
    "-\tFinde alle IBANs, die mit DE beginnen (Tip: wende die [ ] – Syntax zweimal an).\n",
    "-\tFinde alle IBANs im Text (Tip: Bereich)\n",
    "-\tFinde alle Kontonummern (Tip: Den Anfang einer Zeile kennzeichnet man mit ^).\n"
   ]
  },
  {
   "cell_type": "markdown",
   "metadata": {},
   "source": [
    "## Lektion 3: Wiederholungsfaktoren\n",
    "\n",
    "Mittlerweile wissen wir schon, wie man durch Wiederholung (DE) Ausdrücke erkennen kann. Da man nicht alles Tippen will gibt es Wiederholungsfaktoren:\n",
    "\n",
    "-\t{n}  muss n-mal vorkommen\n",
    "-\t{min,} muss mindestens min mal vorkommen\n",
    "-\t{0,max} darf höchstens max mal vorkommen\n",
    "-\t{min,max} kommt mindestens min mal und höchstens max mal vor\n",
    "\n",
    "Einige Fälle werden mit eigenen Symbolen versehen (?, * oder +):\n",
    "\n",
    "-\t{0,} oder * kommt beliebig oft vor\n",
    "-\t{1,} oder + kommt mindestens einmal vor\n",
    "-\t{0,1}  oder ? ist optional, kommt 1 mal oder gar nicht vor.\n",
    "\n",
    "Z.B. Ergibt [a]+ Treffer die Zeichenfolgen: a oder aa oder aaa , usw.\n",
    "Achtung: a*  trifft immer irgendwas, denn jede Zeichenfolge enthält 0 mal das Zeichen a.\n",
    "\n",
    "Diese Wiederholungsfaktoren sind gierig (greedy), dass heißt, sie versuchen möglichst treffen. Dies kann man sehr schön an einem Beispiel sehen:\n",
    "Beispiel: Schauen wir uns den Text ABCDEB an. Dann trifft der reguläre Ausdruck A.*B nicht nur AB sondern findet ABCDEB.\n",
    "Tatsächlich kann man diese Suche auch lazy schalten. Dies wird durch ein nachgestelltes Fragezeichen erreicht.\n",
    "Beispiel: Schauen wir uns den Text ABCDEB an. Dann trifft der reguläre Ausdruck A.*?B tatsächlich AB.\n",
    "In den nachfolgenden Übungen versuchen wir nun das Verständnis für Wiederholungsfaktoren zu schärfen."
   ]
  },
  {
   "cell_type": "markdown",
   "metadata": {},
   "source": [
    "###\tÜbung 3: Wiederholungsfaktoren\n",
    "\n",
    "Wir verwenden wieder das Beispiel aus Übung 4.5.\n",
    "\n",
    "- Finde alle IBANS, die mit einem A beginnen, dann einen beliebigen Buchstaben haben gefolgt von einer beliebigen Folge von Ziffern.\n",
    "- \tWie oben, jedoch mit 01 am Ende."
   ]
  },
  {
   "cell_type": "markdown",
   "metadata": {},
   "source": [
    "## Lektion 4: Leerzeichen und andere Hürden\n",
    "\n",
    "Als Ergänzung zu obigen Lektionen sei hier noch erwähnt, dass mit \\d eine Ziffer bezeichnet wird und mit \\D eine Nicht – Ziffer. Analog bezeichnet \\w ein alphanumerisches (Ziffern und Zeichen!) und \\W ein nicht alphanumerisches Zeichen.\n",
    "Oftmals benötigt man das mit \\s bezeichnete Leerzeichen (whitespace charakter) und als Gegenstück  \\S das Nicht – Leerzeichen.\n",
    "Anwendungsmöglichkeiten werden wir in der nachfolgenden Übung aufzeigen.\n",
    "Eine fortgeschrittene Ergänzung hierzu ist das Erkennen von Tabulatoren (\\t) Zeilenumbrüchen (\\r).\n"
   ]
  },
  {
   "cell_type": "markdown",
   "metadata": {},
   "source": [
    "###\tÜbung 4: Leerzeichen und andere Hürden\n",
    "\n",
    "Betrachte den folgenden Beispielsatz:\n",
    "\n",
    "DE27 1007 7777 0209 2997 00 \n",
    "\n",
    "DE11520513735120710131\n",
    "\n",
    "AT411100000237571500\n",
    "\n",
    "AL90208110080000001039531801\n",
    "\n",
    "BE68844010370034\n",
    "\n",
    "DK5750510001322617\n",
    "\n",
    "EE342200221034126658\n",
    "\n",
    "400 654657\n",
    "\n",
    "8051465\n",
    "\n",
    "78 9887986 54\n",
    "\n",
    "-\tErkenne die deutschen IBANs mit einem regulären Ausdruck, der die verschiedenen obigen Schreibweisen umfasst (Tip: Verwende \\d und \\s)\n",
    "-\tErkenne Kontonummern, die an beliebigen Stellen (außer am Anfang) Leerzeichen enthalten können."
   ]
  },
  {
   "cell_type": "code",
   "execution_count": 1,
   "metadata": {},
   "outputs": [
    {
     "name": "stdout",
     "output_type": "stream",
     "text": [
      "matchObj.group() :  Cats are smarter than dogs\n",
      "matchObj.group(1) :  Cats\n",
      "matchObj.group(2) :  smarter\n"
     ]
    }
   ],
   "source": [
    "import re\n",
    "\n",
    "line = \"Cats are smarter than dogs\"\n",
    "\n",
    "matchObj = re.match( r'(.*) are (.*?) .*', line, re.M|re.I)\n",
    "\n",
    "if matchObj:\n",
    "   print \"matchObj.group() : \", matchObj.group()\n",
    "   print \"matchObj.group(1) : \", matchObj.group(1)\n",
    "   print \"matchObj.group(2) : \", matchObj.group(2)\n",
    "else:\n",
    "   print \"No match!!\""
   ]
  },
  {
   "cell_type": "code",
   "execution_count": 2,
   "metadata": {},
   "outputs": [
    {
     "name": "stdout",
     "output_type": "stream",
     "text": [
      "searchObj.group() :  Cats are smarter than dogs\n",
      "searchObj.group(1) :  Cats\n",
      "searchObj.group(2) :  smarter\n"
     ]
    }
   ],
   "source": [
    "import re\n",
    "\n",
    "line = \"Cats are smarter than dogs\";\n",
    "\n",
    "searchObj = re.search( r'(.*) are (.*?) .*', line, re.M|re.I)\n",
    "\n",
    "if searchObj:\n",
    "   print \"searchObj.group() : \", searchObj.group()\n",
    "   print \"searchObj.group(1) : \", searchObj.group(1)\n",
    "   print \"searchObj.group(2) : \", searchObj.group(2)\n",
    "else:\n",
    "   print \"Nothing found!!\""
   ]
  },
  {
   "cell_type": "code",
   "execution_count": 3,
   "metadata": {},
   "outputs": [
    {
     "name": "stdout",
     "output_type": "stream",
     "text": [
      "No match!!\n",
      "search --> searchObj.group() :  dogs\n"
     ]
    }
   ],
   "source": [
    "import re\n",
    "\n",
    "line = \"Cats are smarter than dogs\";\n",
    "\n",
    "matchObj = re.match( r'dogs', line, re.M|re.I)\n",
    "if matchObj:\n",
    "   print \"match --> matchObj.group() : \", matchObj.group()\n",
    "else:\n",
    "   print \"No match!!\"\n",
    "\n",
    "searchObj = re.search( r'dogs', line, re.M|re.I)\n",
    "if searchObj:\n",
    "   print \"search --> searchObj.group() : \", searchObj.group()\n",
    "else:\n",
    "   print \"Nothing found!!\""
   ]
  },
  {
   "cell_type": "code",
   "execution_count": 4,
   "metadata": {},
   "outputs": [
    {
     "name": "stdout",
     "output_type": "stream",
     "text": [
      "Phone Num :  2004-959-559 \n",
      "Phone Num :  2004959559\n"
     ]
    }
   ],
   "source": [
    "import re\n",
    "\n",
    "phone = \"2004-959-559 # This is Phone Number\"\n",
    "\n",
    "# Delete Python-style comments\n",
    "num = re.sub(r'#.*$', \"\", phone)\n",
    "print \"Phone Num : \", num\n",
    "\n",
    "# Remove anything other than digits\n",
    "num = re.sub(r'\\D', \"\", phone)    \n",
    "print \"Phone Num : \", num"
   ]
  },
  {
   "cell_type": "markdown",
   "metadata": {},
   "source": [
    "| Modifier | Description                                                                                                                                                          |\n",
    "|----------|----------------------------------------------------------------------------------------------------------------------------------------------------------------------|\n",
    "| re.I     | Performs case-insensitive matching.                                                                                                                                  |\n",
    "| re.L     | Interprets words according to the current locale. This interpretation,affects the alphabetic group (\\w and \\W), as well as word boundary,behavior (\\b and \\B).       |\n",
    "| re.M     | Makes $ match the end of a line (not just the end of the string) and,makes ^ match the start of any line (not just the start of the string).                         |\n",
    "| re.S     | Makes a period (dot) match any character, including a newline.                                                                                                       |\n",
    "| re.U     | Interprets letters according to the Unicode character set. This flag affects the behavior of \\w, \\W, \\b, \\B.                                                         |\n",
    "| re.X     | Permits \"cuter\" regular expression syntax. It ignores whitespace (except,inside a set [] or when escaped by a backslash) and treats unescaped #,as a comment marker. |"
   ]
  },
  {
   "cell_type": "code",
   "execution_count": null,
   "metadata": {},
   "outputs": [],
   "source": []
  }
 ],
 "metadata": {
  "kernelspec": {
   "display_name": "Python 2",
   "language": "python",
   "name": "python2"
  },
  "language_info": {
   "codemirror_mode": {
    "name": "ipython",
    "version": 2
   },
   "file_extension": ".py",
   "mimetype": "text/x-python",
   "name": "python",
   "nbconvert_exporter": "python",
   "pygments_lexer": "ipython2",
   "version": "2.7.10"
  }
 },
 "nbformat": 4,
 "nbformat_minor": 2
}
